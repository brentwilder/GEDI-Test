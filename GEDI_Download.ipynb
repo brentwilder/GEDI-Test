{
 "metadata": {
  "language_info": {
   "codemirror_mode": {
    "name": "ipython",
    "version": 3
   },
   "file_extension": ".py",
   "mimetype": "text/x-python",
   "name": "python",
   "nbconvert_exporter": "python",
   "pygments_lexer": "ipython3",
   "version": "3.9.5"
  },
  "orig_nbformat": 4,
  "kernelspec": {
   "name": "python3",
   "display_name": "Python 3.9.5 64-bit"
  },
  "interpreter": {
   "hash": "767d51c1340bd893661ea55ea3124f6de3c7a262a8b4abca0554b478b1e2ff90"
  }
 },
 "nbformat": 4,
 "nbformat_minor": 2,
 "cells": [
  {
   "source": [
    "### Download GEDI data in VS Code\n",
    "#### B.A. Wilder\n",
    "#### 06/14/21\n",
    "#### link to tutorial = https://lpdaac.usgs.gov/resources/e-learning/spatial-querying-of-gedi-version-2-data-in-python/"
   ],
   "cell_type": "markdown",
   "metadata": {}
  },
  {
   "cell_type": "code",
   "execution_count": 1,
   "metadata": {},
   "outputs": [],
   "source": [
    "# Import packages\n",
    "import requests as r\n",
    "from datetime import datetime\n",
    "import os"
   ]
  },
  {
   "cell_type": "code",
   "execution_count": 2,
   "metadata": {},
   "outputs": [
    {
     "output_type": "stream",
     "name": "stdout",
     "text": [
      "Help on function gedi_finder in module __main__:\n\ngedi_finder(product, bbox)\n    Inputs are 1) GEDI product and 2) bounding box.\n    \n    1) products include:\n    GEDI01_B.002 = GEDI L1B Geolocated Waveform Data Global Footprint Level \n    GEDI02_A.002 = GEDI L2A Elevation and Height Metrics Data Global Footprint Level\n    GEDI02_B.002 = GEDI L2B Canopy Cover and Vertical Profile Metrics Data Global Footprint Level\n    \n    2) bounding box coordinates in LL Longitude, LL Latitude, UR Longitude, UR Latitude format\n    \n    \n    Output includes list of links to download GEDI granules\n\n"
     ]
    }
   ],
   "source": [
    "# Define a function called 'gedi_finder' that takes in product and bbox as inputs,\n",
    "# and outputs a list of links to download intersecting GEDI granules\n",
    "def gedi_finder(product,bbox):\n",
    "    \"\"\"\n",
    "    Inputs are 1) GEDI product and 2) bounding box.\n",
    "    \n",
    "    1) products include:\n",
    "    GEDI01_B.002 = GEDI L1B Geolocated Waveform Data Global Footprint Level \n",
    "    GEDI02_A.002 = GEDI L2A Elevation and Height Metrics Data Global Footprint Level\n",
    "    GEDI02_B.002 = GEDI L2B Canopy Cover and Vertical Profile Metrics Data Global Footprint Level\n",
    "\n",
    "    2) bounding box coordinates in LL Longitude, LL Latitude, UR Longitude, UR Latitude format\n",
    "\n",
    "    \n",
    "    Output includes list of links to download GEDI granules\n",
    "\n",
    "    \"\"\"\n",
    "    # Define the base url (\"CMR\") \n",
    "    cmr = \"https://cmr.earthdata.nasa.gov/search/granules.json?pretty=true&provider=LPDAAC_ECS&page_size=2000&concept_id=\"\n",
    "    \n",
    "    # Set up dictionary where key is GEDI shortname + version\n",
    "    concept_ids = {'GEDI01_B.002': 'C1908344278-LPDAAC_ECS', \n",
    "                   'GEDI02_A.002': 'C1908348134-LPDAAC_ECS', \n",
    "                   'GEDI02_B.002': 'C1908350066-LPDAAC_ECS'}\n",
    "    \n",
    "    # CMR uses pagination for queries with more features returned than the page size\n",
    "    page = 1\n",
    "    bbox = bbox.replace(' ', '')  # remove any white spaces\n",
    "    try:\n",
    "        # Send GET request to CMR granule with inputs\n",
    "        cmr_response = r.get(f\"{cmr}{concept_ids[product]}&bounding_box={bbox}&pageNum={page}\").json()['feed']['entry']\n",
    "\n",
    "        # If 2000 features are returned (max), move to the next page and submit another request, and append\n",
    "        while len(cmr_response) % 2000 == 0:\n",
    "            page += 1\n",
    "            cmr_response += r.get(f\"{cmr}{concept_ids[product]}&bounding_box={bbox}&pageNum={page}\").json()['feed']['entry']\n",
    "        \n",
    "        # CMR returns more info than just Data Pool links. Use list comprehension to return a list of DP links\n",
    "        return [c['links'][0]['href'] for c in cmr_response]\n",
    "    except:\n",
    "        # If request fails ...\n",
    "        print(r.get(f\"{cmr}{concept_ids[product]}&bounding_box={bbox.replace(' ', '')}&pageNum={page}\").json())\n",
    "\n",
    "# Display help\n",
    "help(gedi_finder)"
   ]
  },
  {
   "cell_type": "code",
   "execution_count": 3,
   "metadata": {},
   "outputs": [],
   "source": [
    "# Provide inputs here\n",
    "# For this example, I'm going to ask for canopy data for a small area near Yosemite\n",
    "product = 'GEDI02_A.002'\n",
    "bbox = '-119.89452770513797,37.526329989702994,-119.57868057779892,37.72375321521001'"
   ]
  },
  {
   "cell_type": "code",
   "execution_count": 4,
   "metadata": {},
   "outputs": [
    {
     "output_type": "stream",
     "name": "stdout",
     "text": [
      "16 GEDI02_A.002 Version 2 granules found.\n"
     ]
    }
   ],
   "source": [
    "# Call gedi_finder function and print the amount of granules found\n",
    "granules = gedi_finder(product, bbox)\n",
    "print(f\"{len(granules)} {product} Version 2 granules found.\")"
   ]
  },
  {
   "cell_type": "code",
   "execution_count": 5,
   "metadata": {},
   "outputs": [
    {
     "output_type": "stream",
     "name": "stdout",
     "text": [
      "File containing links to intersecting GEDI02_A.002 Version 2 data has been saved to:\n /home/brent/Documents/Code/GEDI_Test\\GEDI02_A_002_GranuleList_20210614173542.txt\n"
     ]
    }
   ],
   "source": [
    "# Export list to a .txt file using the current datetime as name\n",
    "outName = f\"{product.replace('.', '_')}_GranuleList_{datetime.now().strftime('%Y%m%d%H%M%S')}.txt\"\n",
    "with open(outName, 'w') as gf:\n",
    "    for g in granules:\n",
    "        gf.write(f\"{g}\\n\")  # \\n = new line\n",
    "print(f\"File containing links to intersecting {product} Version 2 data has been saved to:\\n {os.getcwd()}\\{outName}\")"
   ]
  },
  {
   "source": [
    "### Once txt file has been generated you can now use the DAACDataDownload python script in terminal window\n",
    "### 1) cd into the current directory\n",
    "### 2) copy and paste this line with the correct .txt file\n",
    "\n",
    "#### **_python DAACDataDownload.py -dir Downloads -f GEDI02_B_002_GranuleList_20210614151620.txt_**\n",
    "\n",
    "### 3) you will be prompted to enter your id and password for NASA Earthdata\n"
   ],
   "cell_type": "markdown",
   "metadata": {}
  }
 ]
}